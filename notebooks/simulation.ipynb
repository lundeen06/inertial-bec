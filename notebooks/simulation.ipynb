{
 "cells": [
  {
   "cell_type": "markdown",
   "metadata": {},
   "source": [
    "# BEC-Based Inertial Sensor Simulation\n",
    "\n",
    "This notebook demonstrates the simulation of a Bose-Einstein Condensate (BEC) based inertial sensor. We'll explore:\n",
    "\n",
    "1. BEC State Initialization\n",
    "2. Trap and Interaction Configuration\n",
    "3. Ground State Preparation\n",
    "4. Acceleration Sensing\n",
    "5. Analysis and Visualization"
   ]
  },
  {
   "cell_type": "code",
   "execution_count": null,
   "metadata": {},
   "outputs": [
    {
     "ename": "",
     "evalue": "",
     "output_type": "error",
     "traceback": [
      "\u001b[1;31mRunning cells with 'Python 3.13.0' requires the ipykernel package.\n",
      "\u001b[1;31mRun the following command to install 'ipykernel' into the Python environment. \n",
      "\u001b[1;31mCommand: '/opt/homebrew/bin/python3 -m pip install ipykernel -U --user --force-reinstall'"
     ]
    }
   ],
   "source": [
    "import numpy as np\n",
    "import matplotlib.pyplot as plt\n",
    "%matplotlib inline\n",
    "\n",
    "import sys\n",
    "sys.path.append('..')\n",
    "\n",
    "from src.core import BECState\n",
    "from src.physics import AccelerationSensor, TrapPotential\n",
    "from src.utils.numerical_methods import GPESolver\n",
    "from src.visualization import BECVisualizer, PhaseVisualizer"
   ]
  },
  {
   "cell_type": "markdown",
   "metadata": {},
   "source": [
    "## 1. Initialize BEC System\n",
    "\n",
    "First, we'll create our BEC state with initial parameters."
   ]
  },
  {
   "cell_type": "code",
   "execution_count": null,
   "metadata": {},
   "outputs": [],
   "source": [
    "# System parameters\n",
    "params = {\n",
    "    'grid_points': 256,\n",
    "    'box_size': 20.0,  # in trap oscillator units\n",
    "    'trap_frequency': 100.0,  # Hz\n",
    "    'interaction_strength': 1.0,  # dimensionless g\n",
    "    'atom_number': 1e5\n",
    "}\n",
    "\n",
    "# Create BEC state\n",
    "bec = BECState(**params)\n",
    "print(f\"System initialized with {params['atom_number']} atoms\")\n",
    "\n",
    "# Visualize initial state\n",
    "viz = BECVisualizer(bec)\n",
    "fig, ax = viz.plot_density(title=\"Initial BEC Density Profile\")\n",
    "plt.show()"
   ]
  },
  {
   "cell_type": "markdown",
   "metadata": {},
   "source": [
    "## 2. Configure Trap and Find Ground State\n",
    "\n",
    "Now we'll set up the trapping potential and find the ground state using imaginary time evolution."
   ]
  },
  {
   "cell_type": "code",
   "execution_count": null,
   "metadata": {},
   "outputs": [],
   "source": [
    "# Create trap potential\n",
    "trap = TrapPotential(\n",
    "    frequency=params['trap_frequency'],\n",
    "    center=(0.0, 0.0, 0.0),\n",
    "    anisotropy=(1.0, 1.0, 1.0)\n",
    ")\n",
    "\n",
    "# Initialize GPE solver\n",
    "solver = GPESolver(\n",
    "    Nx=params['grid_points'],\n",
    "    dx=bec._grid[1] - bec._grid[0],\n",
    "    dt=1e-3,\n",
    "    g=params['interaction_strength']\n",
    ")\n",
    "\n",
    "# Find ground state\n",
    "V = trap.harmonic_potential(bec._grid)\n",
    "ground_state, ground_energy = solver.imaginary_time(\n",
    "    psi_initial=bec.wavefunction,\n",
    "    V=V,\n",
    "    max_iter=1000,\n",
    "    tolerance=1e-10\n",
    ")\n",
    "\n",
    "# Update BEC state\n",
    "bec.wavefunction = ground_state\n",
    "\n",
    "# Visualize ground state\n",
    "fig, ax = viz.plot_density(title=\"Ground State Density Profile\")\n",
    "plt.show()\n",
    "\n",
    "print(f\"Ground state energy: {ground_energy:.2f} (in trap units)\")"
   ]
  },
  {
   "cell_type": "markdown",
   "metadata": {},
   "source": [
    "## 3. Acceleration Sensing Setup\n",
    "\n",
    "We'll now configure and initialize the acceleration sensor."
   ]
  },
  {
   "cell_type": "code",
   "execution_count": null,
   "metadata": {},
   "outputs": [],
   "source": [
    "# Create acceleration sensor\n",
    "sensor = AccelerationSensor(\n",
    "    bec_state=bec,\n",
    "    sensitivity=1e-6,  # m/s²\n",
    "    measurement_time=0.1,  # seconds\n",
    "    noise_level=1e-3\n",
    ")\n",
    "\n",
    "# Calculate theoretical sensitivity limit\n",
    "sensitivity_limit = sensor.get_sensitivity_limit()\n",
    "print(f\"Theoretical sensitivity limit: {sensitivity_limit:.2e} m/s²\")"
   ]
  },
  {
   "cell_type": "markdown",
   "metadata": {},
   "source": [
    "## 4. Acceleration Measurement\n",
    "\n",
    "Let's simulate an acceleration measurement with a known test acceleration."
   ]
  },
  {
   "cell_type": "code",
   "execution_count": null,
   "metadata": {},
   "outputs": [],
   "source": [
    "# Apply test acceleration\n",
    "test_acceleration = 1e-5  # m/s²\n",
    "\n",
    "# Perform measurement\n",
    "measured_acc, uncertainty = sensor.measure_acceleration()\n",
    "\n",
    "print(f\"Applied acceleration: {test_acceleration:.2e} m/s²\")\n",
    "print(f\"Measured acceleration: {measured_acc:.2e} ± {uncertainty:.2e} m/s²\")\n",
    "\n",
    "# Plot measurement results\n",
    "phase_viz = PhaseVisualizer()\n",
    "fig, (ax1, ax2) = plt.subplots(2, 1, figsize=(10, 10))\n",
    "\n",
    "# Phase evolution\n",
    "times = np.array(sensor.history['time']) * 1e3  # Convert to ms\n",
    "phase_gradients = np.array(sensor.history['phase_gradient'])\n",
    "\n",
    "ax1.plot(times, phase_gradients, 'b.-', label='Phase Gradient')\n",
    "ax1.set_xlabel('Time (ms)')\n",
    "ax1.set_ylabel('Phase Gradient')\n",
    "ax1.grid(True)\n",
    "ax1.legend()\n",
    "\n",
    "# Center of mass motion\n",
    "com_positions = np.array(sensor.history['com_position'])\n",
    "ax2.plot(times, com_positions, 'r.-', label='COM Position')\n",
    "ax2.set_xlabel('Time (ms)')\n",
    "ax2.set_ylabel('Position (a.u.)')\n",
    "ax2.grid(True)\n",
    "ax2.legend()\n",
    "\n",
    "plt.tight_layout()\n",
    "plt.show()"
   ]
  },
  {
   "cell_type": "markdown",
   "metadata": {},
   "source": [
    "## 5. Sensitivity Analysis\n",
    "\n",
    "Finally, let's analyze the sensor's response over a range of accelerations."
   ]
  },
  {
   "cell_type": "code",
   "execution_count": null,
   "metadata": {},
   "outputs": [],
   "source": [
    "# Test range of accelerations\n",
    "accelerations = np.logspace(-7, -4, 10)  # m/s²\n",
    "measurements = []\n",
    "uncertainties = []\n",
    "\n",
    "for acc in accelerations:\n",
    "    # Reset BEC to ground state\n",
    "    bec.wavefunction = ground_state.copy()\n",
    "    \n",
    "    # Measure acceleration\n",
    "    measured, uncertainty = sensor.measure_acceleration()\n",
    "    measurements.append(measured)\n",
    "    uncertainties.append(uncertainty)\n",
    "\n",
    "# Plot results\n",
    "measurements = np.array(measurements)\n",
    "uncertainties = np.array(uncertainties)\n",
    "\n",
    "plt.figure(figsize=(10, 6))\n",
    "plt.errorbar(accelerations, measurements, yerr=uncertainties,\n",
    "             fmt='bo-', capsize=5, label='Measurements')\n",
    "plt.plot(accelerations, accelerations, 'k--', label='Ideal Response')\n",
    "\n",
    "plt.xscale('log')\n",
    "plt.yscale('log')\n",
    "plt.xlabel('Applied Acceleration (m/s²)')\n",
    "plt.ylabel('Measured Acceleration (m/s²)')\n",
    "plt.title('Sensor Response Characterization')\n",
    "plt.grid(True)\n",
    "plt.legend()\n",
    "plt.show()\n",
    "\n",
    "# Calculate and print performance metrics\n",
    "relative_error = np.abs(measurements - accelerations) / accelerations\n",
    "print(f\"Average relative error: {np.mean(relative_error):.2%}\")\n",
    "print(f\"Minimum detectable acceleration: {np.min(accelerations[measurements > uncertainties]):.2e} m/s²\")"
   ]
  }
 ],
 "metadata": {
  "kernelspec": {
   "display_name": "Python 3",
   "language": "python",
   "name": "python3"
  },
  "language_info": {
   "codemirror_mode": {
    "name": "ipython",
    "version": 3
   },
   "file_extension": ".py",
   "mimetype": "text/x-python",
   "name": "python",
   "nbconvert_exporter": "python",
   "pygments_lexer": "ipython3",
   "version": "3.13.0"
  }
 },
 "nbformat": 4,
 "nbformat_minor": 4
}
